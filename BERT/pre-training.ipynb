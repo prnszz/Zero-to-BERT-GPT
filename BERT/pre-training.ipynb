{
 "cells": [
  {
   "cell_type": "markdown",
   "metadata": {},
   "source": [
    "Reference:\n",
    "1. [How to Code BERT Using PyTorch](https://neptune.ai/blog/how-to-code-bert-using-pytorch-tutorial)"
   ]
  },
  {
   "cell_type": "code",
   "execution_count": 17,
   "metadata": {},
   "outputs": [],
   "source": [
    "maxlen = 30  \n",
    "batch_size = 6  \n",
    "max_pred = 5  \n",
    "n_layers = 6  \n",
    "n_heads = 12  \n",
    "d_model = 768  \n",
    "d_ff = 768*4  \n",
    "d_k = d_v = 64  \n",
    "n_segments = 2  \n"
   ]
  },
  {
   "cell_type": "code",
   "execution_count": 15,
   "metadata": {},
   "outputs": [
    {
     "data": {
      "text/plain": [
       "({0: '[PAD]',\n",
       "  1: '[CLS]',\n",
       "  2: '[SEP]',\n",
       "  3: '[MASK]',\n",
       "  4: 'juliet',\n",
       "  5: 'is',\n",
       "  6: 'team',\n",
       "  7: 'competition',\n",
       "  8: 'name',\n",
       "  9: 'today',\n",
       "  10: 'are',\n",
       "  11: 'thank',\n",
       "  12: 'i',\n",
       "  13: 'the',\n",
       "  14: 'meet',\n",
       "  15: 'you',\n",
       "  16: 'too',\n",
       "  17: 'oh',\n",
       "  18: 'to',\n",
       "  19: 'am',\n",
       "  20: 'congratulations',\n",
       "  21: 'won',\n",
       "  22: 'how',\n",
       "  23: 'my',\n",
       "  24: 'romeo',\n",
       "  25: 'great',\n",
       "  26: 'baseball',\n",
       "  27: 'nice',\n",
       "  28: 'hello'},\n",
       " 29)"
      ]
     },
     "execution_count": 15,
     "metadata": {},
     "output_type": "execute_result"
    }
   ],
   "source": [
    "import re\n",
    "import numpy as np\n",
    "\n",
    "text = (\n",
    "    'Hello, how are you? I am Romeo.\\n' \n",
    "    'Hello, Romeo My name is Juliet. Nice to meet you.\\n'\n",
    "    'Nice to meet you too. How are you today?\\n'\n",
    "    'Great. My baseball team won the competition.\\n'\n",
    "    'Oh Congratulations, Juliet\\n'\n",
    "    'Thank you Romeo'\n",
    ")\n",
    "sentences = re.sub(\"[.,!?-]\", '', text.lower()).split('\\n')  # filter '.', ',', '?', '!'\n",
    "word_list = list(set(\" \".join(sentences).split()))\n",
    "word_dict = {'[PAD]': 0, '[CLS]': 1, '[SEP]': 2, '[MASK]': 3}\n",
    "for i, w in enumerate(word_list):\n",
    "   word_dict[w] = i + 4\n",
    "   number_dict = {i: w for i, w in enumerate(word_dict)}\n",
    "vocab_size = len(word_dict)\n",
    "number_dict, vocab_size"
   ]
  },
  {
   "cell_type": "code",
   "execution_count": null,
   "metadata": {},
   "outputs": [
    {
     "name": "stdout",
     "output_type": "stream",
     "text": [
      "hello how are you i am romeo\n",
      "[28, 22, 10, 15, 12, 19, 24]\n",
      "hello romeo my name is juliet nice to meet you\n",
      "[28, 24, 23, 8, 5, 4, 27, 18, 14, 15]\n",
      "nice to meet you too how are you today\n",
      "[27, 18, 14, 15, 16, 22, 10, 15, 9]\n",
      "great my baseball team won the competition\n",
      "[25, 23, 26, 6, 21, 13, 7]\n",
      "oh congratulations juliet\n",
      "[17, 20, 4]\n",
      "thank you romeo\n",
      "[11, 15, 24]\n"
     ]
    },
    {
     "data": {
      "text/plain": [
       "[[28, 22, 10, 15, 12, 19, 24],\n",
       " [28, 24, 23, 8, 5, 4, 27, 18, 14, 15],\n",
       " [27, 18, 14, 15, 16, 22, 10, 15, 9],\n",
       " [25, 23, 26, 6, 21, 13, 7],\n",
       " [17, 20, 4],\n",
       " [11, 15, 24]]"
      ]
     },
     "execution_count": 16,
     "metadata": {},
     "output_type": "execute_result"
    }
   ],
   "source": [
    "token_list = list()\n",
    "for sentence in sentences:\n",
    "   arr = [word_dict[s] for s in sentence.split()]\n",
    "   token_list.append(arr)\n",
    "   # print(sentence)\n",
    "   # print(arr)\n",
    "\n",
    "token_list"
   ]
  },
  {
   "cell_type": "code",
   "execution_count": 4,
   "metadata": {},
   "outputs": [],
   "source": [
    "def make_batch():\n",
    "   batch = []\n",
    "   positive = negative = 0\n",
    "   while positive != batch_size/2 or negative != batch_size/2:\n",
    "       tokens_a_index, tokens_b_index= randrange(len(sentences)), randrange(len(sentences))\n",
    "\n",
    "       tokens_a, tokens_b= token_list[tokens_a_index], token_list[tokens_b_index]\n",
    "\n",
    "       input_ids = [word_dict['[CLS]']] + tokens_a + [word_dict['[SEP]']] + tokens_b + [word_dict['[SEP]']]\n",
    "       segment_ids = [0] * (1 + len(tokens_a) + 1) + [1] * (len(tokens_b) + 1)\n",
    "\n",
    "       # MASK LM\n",
    "       n_pred =  min(max_pred, max(1, int(round(len(input_ids) * 0.15)))) # 15 % of tokens in one sentence\n",
    "       cand_maked_pos = [i for i, token in enumerate(input_ids)\n",
    "                         if token != word_dict['[CLS]'] and token != word_dict['[SEP]']]\n",
    "       shuffle(cand_maked_pos)\n",
    "       masked_tokens, masked_pos = [], []\n",
    "       for pos in cand_maked_pos[:n_pred]:\n",
    "           masked_pos.append(pos)\n",
    "           masked_tokens.append(input_ids[pos])\n",
    "           if random() < 0.8:  # 80%\n",
    "               input_ids[pos] = word_dict['[MASK]'] # make mask\n",
    "           elif random() < 0.5:  # 10%\n",
    "               index = randint(0, vocab_size - 1) # random index in vocabulary\n",
    "               input_ids[pos] = word_dict[number_dict[index]] # replace\n",
    "\n",
    "       # Zero Paddings\n",
    "       n_pad = maxlen - len(input_ids)\n",
    "       input_ids.extend([0] * n_pad)\n",
    "       segment_ids.extend([0] * n_pad)\n",
    "\n",
    "       # Zero Padding (100% - 15%) tokens\n",
    "       if max_pred > n_pred:\n",
    "           n_pad = max_pred - n_pred\n",
    "           masked_tokens.extend([0] * n_pad)\n",
    "           masked_pos.extend([0] * n_pad)\n",
    "\n",
    "       if tokens_a_index + 1 == tokens_b_index and positive < batch_size/2:\n",
    "           batch.append([input_ids, segment_ids, masked_tokens, masked_pos, True]) # IsNext\n",
    "           positive += 1\n",
    "       elif tokens_a_index + 1 != tokens_b_index and negative < batch_size/2:\n",
    "           batch.append([input_ids, segment_ids, masked_tokens, masked_pos, False]) # NotNext\n",
    "           negative += 1\n",
    "   return batch"
   ]
  }
 ],
 "metadata": {
  "kernelspec": {
   "display_name": "nlp",
   "language": "python",
   "name": "python3"
  },
  "language_info": {
   "codemirror_mode": {
    "name": "ipython",
    "version": 3
   },
   "file_extension": ".py",
   "mimetype": "text/x-python",
   "name": "python",
   "nbconvert_exporter": "python",
   "pygments_lexer": "ipython3",
   "version": "3.10.14"
  }
 },
 "nbformat": 4,
 "nbformat_minor": 2
}
