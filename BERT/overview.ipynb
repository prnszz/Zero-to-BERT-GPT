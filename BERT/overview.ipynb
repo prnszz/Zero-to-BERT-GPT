{
 "cells": [
  {
   "cell_type": "markdown",
   "metadata": {},
   "source": [
    "# Overview\n",
    "The BERT model was proposed in [BERT: Pre-training of Deep Bidirectional Transformers for Language Understanding](https://arxiv.org/abs/1810.04805). It stands for “Bidirectional Encoder Representation with Transformers”. To put it in simple words BERT extracts patterns or representations from the data or word embeddings by passing it through an encoder. The encoder itself is a transformer architecture that is stacked together. It is a bidirectional transformer which means that during training it considers the context from both left and right of the vocabulary to extract patterns or representations.   \n",
    "![](https://huggingface.co/blog/assets/52_bert_101/BERT-size-and-architecture.png)"
   ]
  },
  {
   "cell_type": "code",
   "execution_count": 1,
   "metadata": {},
   "outputs": [
    {
     "name": "stdout",
     "output_type": "stream",
     "text": [
      "2.3.0\n",
      "4.40.2\n"
     ]
    },
    {
     "name": "stderr",
     "output_type": "stream",
     "text": [
      "/opt/miniconda3/envs/nlp/lib/python3.10/site-packages/huggingface_hub/file_download.py:1132: FutureWarning: `resume_download` is deprecated and will be removed in version 1.0.0. Downloads always resume when possible. If you want to force a new download, use `force_download=True`.\n",
      "  warnings.warn(\n"
     ]
    }
   ],
   "source": [
    "import torch\n",
    "print(torch.__version__)\n",
    "import transformers\n",
    "print(transformers.__version__)\n",
    "import numpy as np\n",
    "from transformers import BertTokenizer, BertModel\n",
    "tokenizer = BertTokenizer.from_pretrained('bert-base-uncased')\n",
    "from sklearn.decomposition import PCA\n",
    "import matplotlib.pyplot as plt"
   ]
  },
  {
   "cell_type": "code",
   "execution_count": 2,
   "metadata": {},
   "outputs": [
    {
     "name": "stderr",
     "output_type": "stream",
     "text": [
      "/opt/miniconda3/envs/nlp/lib/python3.10/site-packages/huggingface_hub/file_download.py:1132: FutureWarning: `resume_download` is deprecated and will be removed in version 1.0.0. Downloads always resume when possible. If you want to force a new download, use `force_download=True`.\n",
      "  warnings.warn(\n"
     ]
    },
    {
     "data": {
      "text/plain": [
       "BertConfig {\n",
       "  \"_name_or_path\": \"bert-base-uncased\",\n",
       "  \"architectures\": [\n",
       "    \"BertForMaskedLM\"\n",
       "  ],\n",
       "  \"attention_probs_dropout_prob\": 0.1,\n",
       "  \"classifier_dropout\": null,\n",
       "  \"gradient_checkpointing\": false,\n",
       "  \"hidden_act\": \"gelu\",\n",
       "  \"hidden_dropout_prob\": 0.1,\n",
       "  \"hidden_size\": 768,\n",
       "  \"initializer_range\": 0.02,\n",
       "  \"intermediate_size\": 3072,\n",
       "  \"layer_norm_eps\": 1e-12,\n",
       "  \"max_position_embeddings\": 512,\n",
       "  \"model_type\": \"bert\",\n",
       "  \"num_attention_heads\": 12,\n",
       "  \"num_hidden_layers\": 12,\n",
       "  \"pad_token_id\": 0,\n",
       "  \"position_embedding_type\": \"absolute\",\n",
       "  \"transformers_version\": \"4.40.2\",\n",
       "  \"type_vocab_size\": 2,\n",
       "  \"use_cache\": true,\n",
       "  \"vocab_size\": 30522\n",
       "}"
      ]
     },
     "execution_count": 2,
     "metadata": {},
     "output_type": "execute_result"
    }
   ],
   "source": [
    "model = BertModel.from_pretrained('bert-base-uncased')\n",
    "model.config"
   ]
  },
  {
   "cell_type": "markdown",
   "metadata": {},
   "source": [
    "# BERT-base Architecture Parameters Explained\n",
    "\n",
    "## 1. Main Architecture Components\n",
    "### Transformer Layers (`num_hidden_layers: 12`)\n",
    "- BERT-base has 12 Transformer encoder layers\n",
    "- Each layer contains:\n",
    "  * Multi-head self attention\n",
    "  * Feed-forward neural network\n",
    "  * Layer normalization\n",
    "  * Residual connections\n",
    "\n",
    "### Attention Mechanism\n",
    "- `num_attention_heads: 12`\n",
    "  * Each layer has 12 attention heads\n",
    "  * Each head processes a different part of the input\n",
    "- `hidden_size: 768`\n",
    "  * Dimension of hidden states\n",
    "  * Each attention head processes 64-dimensional data (768/12 = 64)\n",
    "\n",
    "### Feed-forward Network\n",
    "- `intermediate_size: 3072`\n",
    "  * Size of the intermediate layer in feed-forward network\n",
    "  * 4 times the hidden size (768 * 4 = 3072)\n",
    "  * Sequence: 768 → 3072 → 768 (with GELU activation)\n",
    "\n",
    "## 2. Other Important Parameters\n",
    "### Embedding and Sequence\n",
    "- `vocab_size: 30522`\n",
    "  * Size of the tokenizer vocabulary\n",
    "- `max_position_embeddings: 512`\n",
    "  * Maximum sequence length the model can handle\n",
    "- `type_vocab_size: 2`\n",
    "  * For segment embeddings (sentence A/B)\n",
    "\n",
    "### Model Configuration\n",
    "- `hidden_act: \"gelu\"`\n",
    "  * Activation function used\n",
    "- `layer_norm_eps: 1e-12`\n",
    "  * Small constant for numerical stability\n",
    "- `attention_probs_dropout_prob: 0.1`\n",
    "  * Dropout rate for attention probabilities\n",
    "- `hidden_dropout_prob: 0.1`\n",
    "  * Dropout rate for fully connected layers\n",
    "\n",
    "### Position Information\n",
    "- `position_embedding_type: \"absolute\"`\n",
    "  * Uses absolute position embeddings"
   ]
  },
  {
   "cell_type": "code",
   "execution_count": 3,
   "metadata": {},
   "outputs": [
    {
     "name": "stdout",
     "output_type": "stream",
     "text": [
      "{'unk_token': '[UNK]', 'sep_token': '[SEP]', 'pad_token': '[PAD]', 'cls_token': '[CLS]', 'mask_token': '[MASK]'}\n"
     ]
    }
   ],
   "source": [
    "# Display special tokens\n",
    "special_tokens = tokenizer.special_tokens_map\n",
    "print(special_tokens)"
   ]
  },
  {
   "cell_type": "markdown",
   "metadata": {},
   "source": [
    "## BERT Embeddings   \n",
    "BERT can embed texts."
   ]
  },
  {
   "cell_type": "code",
   "execution_count": 3,
   "metadata": {},
   "outputs": [
    {
     "name": "stdout",
     "output_type": "stream",
     "text": [
      "torch.Size([1, 768])\n"
     ]
    }
   ],
   "source": [
    "# Load pre-trained BERT model and tokenizer\n",
    "model = BertModel.from_pretrained('bert-base-uncased')\n",
    "\n",
    "# Input text\n",
    "sentence = \"BERT is a transformer-based model for NLP tasks.\"\n",
    "\n",
    "# Encode input\n",
    "inputs = tokenizer(sentence, return_tensors='pt', padding=True, truncation=True)\n",
    "\n",
    "# Get hidden states\n",
    "with torch.no_grad():\n",
    "    outputs = model(**inputs)\n",
    "    # Last layer hidden states (batch_size, seq_length, hidden_size)\n",
    "    hidden_states = outputs.last_hidden_state\n",
    "\n",
    "# Get [CLS] token representation as sentence embedding\n",
    "sentence_embedding = hidden_states[:, 0, :]  # [CLS] embedding\n",
    "print(sentence_embedding.shape)  # Output: torch.Size([1, 768])"
   ]
  },
  {
   "cell_type": "code",
   "execution_count": 4,
   "metadata": {},
   "outputs": [
    {
     "name": "stdout",
     "output_type": "stream",
     "text": [
      "(9, 768)\n"
     ]
    }
   ],
   "source": [
    "sentences = [\n",
    "    # NLP-related sentences\n",
    "    \"Deep learning models have transformed natural language processing.\",  # More technical like S2/S3\n",
    "    \"Transformers have revolutionized NLP tasks.\",\n",
    "    \"Natural language processing is advancing rapidly.\",\n",
    "    \n",
    "    # Weather-related sentences\n",
    "    \"The weather is sunny and warm today.\",\n",
    "    \"It might rain this afternoon.\",\n",
    "    \"The temperature will drop tomorrow.\",\n",
    "    \n",
    "    # Sports-related sentences\n",
    "    \"The basketball team won the championship.\",\n",
    "    \"The NBA finals were incredibly exciting.\",  # More basketball-specific like S7\n",
    "    \"The Lakers dominated the basketball season.\"  # More basketball-specific like S7\n",
    "]\n",
    "\n",
    "# Get embeddings for all sentences\n",
    "embeddings = []\n",
    "with torch.no_grad():\n",
    "    for sentence in sentences:\n",
    "        inputs = tokenizer(sentence, return_tensors='pt', padding=True, truncation=True)\n",
    "        outputs = model(**inputs).last_hidden_state\n",
    "        embeddings.append(outputs[:, 0, :])  # Get [CLS] token embedding\n",
    "\n",
    "# Convert to numpy and combine\n",
    "embeddings_np = np.vstack([emb.numpy() for emb in embeddings])\n",
    "print(embeddings_np.shape)  # Output: (9, 768)"
   ]
  },
  {
   "cell_type": "code",
   "execution_count": 5,
   "metadata": {},
   "outputs": [
    {
     "data": {
      "image/png": "[encoded data removed]",
      "text/plain": [
       "<Figure size 1200x800 with 1 Axes>"
      ]
     },
     "metadata": {},
     "output_type": "display_data"
    }
   ],
   "source": [
    "# Apply PCA\n",
    "pca = PCA(n_components=2)\n",
    "embeddings_2d = pca.fit_transform(embeddings_np)\n",
    "\n",
    "# Create scatter plot with different colors for different groups\n",
    "plt.figure(figsize=(12, 8))\n",
    "\n",
    "# Plot points by groups with different colors\n",
    "colors = ['blue', 'green', 'red']\n",
    "markers = ['o', 's', '^']\n",
    "\n",
    "for i in range(3):  # Three groups\n",
    "    start_idx = i * 3\n",
    "    end_idx = start_idx + 3\n",
    "    plt.scatter(embeddings_2d[start_idx:end_idx, 0], \n",
    "               embeddings_2d[start_idx:end_idx, 1], \n",
    "               c=colors[i], \n",
    "               marker=markers[i],\n",
    "               label=f'Group {i+1}')\n",
    "\n",
    "# Add labels for each point\n",
    "for idx, sentence in enumerate(sentences):\n",
    "    plt.annotate(f\"S{idx+1}\", \n",
    "                (embeddings_2d[idx, 0], embeddings_2d[idx, 1]),\n",
    "                xytext=(5, 5), \n",
    "                textcoords='offset points',\n",
    "                fontsize=8)\n",
    "\n",
    "# Customize plot\n",
    "plt.title(\"2D Visualization of Multiple Sentence Embeddings\")\n",
    "plt.legend(['NLP-related', 'Weather-related', 'Sports-related'])\n",
    "plt.grid(True, alpha=0.3)\n",
    "\n",
    "\n",
    "plt.tight_layout()\n",
    "plt.show()"
   ]
  },
  {
   "cell_type": "markdown",
   "metadata": {},
   "source": [
    "## Masked Token Prediction   \n",
    "BERT can predict the masked token(word). "
   ]
  },
  {
   "cell_type": "code",
   "execution_count": 6,
   "metadata": {},
   "outputs": [
    {
     "name": "stderr",
     "output_type": "stream",
     "text": [
      "/opt/miniconda3/envs/nlp/lib/python3.10/site-packages/huggingface_hub/file_download.py:1132: FutureWarning: `resume_download` is deprecated and will be removed in version 1.0.0. Downloads always resume when possible. If you want to force a new download, use `force_download=True`.\n",
      "  warnings.warn(\n",
      "Some weights of the model checkpoint at bert-base-uncased were not used when initializing BertForMaskedLM: ['bert.pooler.dense.bias', 'bert.pooler.dense.weight', 'cls.seq_relationship.bias', 'cls.seq_relationship.weight']\n",
      "- This IS expected if you are initializing BertForMaskedLM from the checkpoint of a model trained on another task or with another architecture (e.g. initializing a BertForSequenceClassification model from a BertForPreTraining model).\n",
      "- This IS NOT expected if you are initializing BertForMaskedLM from the checkpoint of a model that you expect to be exactly identical (initializing a BertForSequenceClassification model from a BertForSequenceClassification model).\n"
     ]
    },
    {
     "name": "stdout",
     "output_type": "stream",
     "text": [
      "Input text: The [MASK] is shining brightly in the sky.\n",
      "BERT predicted word for [MASK]: sun\n",
      "\n",
      "Top 5 predictions:\n",
      "sun: 0.605\n",
      "moon: 0.359\n",
      "sunset: 0.006\n",
      "star: 0.004\n",
      "city: 0.002\n"
     ]
    }
   ],
   "source": [
    "from transformers import BertForMaskedLM\n",
    "\n",
    "# Load pre-trained model \n",
    "model = BertForMaskedLM.from_pretrained('bert-base-uncased')\n",
    "model.eval()\n",
    "\n",
    "# Prepare input text with [MASK] token\n",
    "text = \"The [MASK] is shining brightly in the sky.\"\n",
    "\n",
    "# Encode the text\n",
    "inputs = tokenizer(text, return_tensors=\"pt\")\n",
    "\n",
    "# Get the position of [MASK] token\n",
    "mask_token_index = torch.where(inputs[\"input_ids\"] == tokenizer.mask_token_id)[1]\n",
    "\n",
    "# Make prediction\n",
    "with torch.no_grad():\n",
    "    outputs = model(**inputs)\n",
    "    predictions = outputs.logits\n",
    "\n",
    "# Get the predicted token\n",
    "predicted_token_id = predictions[0, mask_token_index].argmax(axis=-1)\n",
    "predicted_token = tokenizer.decode(predicted_token_id)\n",
    "\n",
    "print(f\"Input text: {text}\")\n",
    "print(f\"BERT predicted word for [MASK]: {predicted_token}\")\n",
    "\n",
    "# Show top-5 predictions\n",
    "probs = torch.nn.functional.softmax(predictions[0, mask_token_index], dim=-1)\n",
    "top_5_tokens = torch.topk(probs, 5, dim=-1)\n",
    "\n",
    "print(\"\\nTop 5 predictions:\")\n",
    "for token, prob in zip(top_5_tokens.indices[0], top_5_tokens.values[0]):\n",
    "    word = tokenizer.decode([token])\n",
    "    print(f\"{word}: {prob:.3f}\")"
   ]
  },
  {
   "cell_type": "markdown",
   "metadata": {},
   "source": [
    "## Next Sentence Prediction   \n",
    "BERT can predict whether two sentences are related."
   ]
  },
  {
   "cell_type": "code",
   "execution_count": 7,
   "metadata": {},
   "outputs": [
    {
     "name": "stdout",
     "output_type": "stream",
     "text": [
      "\n",
      "Sentence 1: The restaurant is famous.\n",
      "Sentence 2: Jupiter is the largest planet.\n",
      "Probability these sentences are related: 0.000\n",
      "Probability these sentences are not related: 1.000\n",
      "\n",
      "Sentence 1: The weather is very cold.\n",
      "Sentence 2: There is snow everywhere.\n",
      "Probability these sentences are related: 1.000\n",
      "Probability these sentences are not related: 0.000\n"
     ]
    }
   ],
   "source": [
    "from transformers import BertForNextSentencePrediction\n",
    "# Load pre-trained model\n",
    "model = BertForNextSentencePrediction.from_pretrained('bert-base-uncased')\n",
    "model.eval()\n",
    "\n",
    "# Prepare example sentence pairs\n",
    "sentence_pairs = [\n",
    "    [\"The restaurant is famous.\", \"Jupiter is the largest planet.\"],  # Unrelated sentences\n",
    "    [\"The weather is very cold.\", \"There is snow everywhere.\"],     # Related sentences\n",
    "]\n",
    "\n",
    "# Test each pair of sentences\n",
    "for sentences in sentence_pairs:\n",
    "    # Encode sentence pairs\n",
    "    encoding = tokenizer(sentences[0], sentences[1], return_tensors='pt', padding=True)\n",
    "    \n",
    "    # Make prediction\n",
    "    with torch.no_grad():\n",
    "        outputs = model(**encoding)\n",
    "        predictions = torch.nn.functional.softmax(outputs.logits, dim=-1)\n",
    "    \n",
    "    # Get prediction probabilities\n",
    "    is_next_prob = predictions[0][0].item()\n",
    "    \n",
    "    print(f\"\\nSentence 1: {sentences[0]}\")\n",
    "    print(f\"Sentence 2: {sentences[1]}\")\n",
    "    print(f\"Probability these sentences are related: {is_next_prob:.3f}\")\n",
    "    print(f\"Probability these sentences are not related: {1-is_next_prob:.3f}\")"
   ]
  }
 ],
 "metadata": {
  "kernelspec": {
   "display_name": "nlp",
   "language": "python",
   "name": "python3"
  },
  "language_info": {
   "codemirror_mode": {
    "name": "ipython",
    "version": 3
   },
   "file_extension": ".py",
   "mimetype": "text/x-python",
   "name": "python",
   "nbconvert_exporter": "python",
   "pygments_lexer": "ipython3",
   "version": "3.10.14"
  }
 },
 "nbformat": 4,
 "nbformat_minor": 2
}
