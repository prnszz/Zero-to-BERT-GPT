{
 "cells": [
  {
   "cell_type": "markdown",
   "metadata": {},
   "source": [
    "# 概要\n",
    "BERTモデルは[BERT: 言語理解のための双方向Transformerの事前学習](https://arxiv.org/abs/1810.04805)で提案されました。「Bidirectional Encoder Representation with Transformers」の略です。簡単に言えば、BERTはエンコーダーを通してデータまたは単語埋め込みからパターンや表現を抽出します。エンコーダー自体は積み重ねられたトランスフォーマーアーキテクチャです。これは双方向トランスフォーマーで、トレーニング中に語彙の左右両方のコンテキストを考慮してパターンや表現を抽出します。\n",
    "![](https://huggingface.co/blog/assets/52_bert_101/BERT-size-and-architecture.png)"
   ]
  },
  {
   "cell_type": "code",
   "execution_count": 2,
   "metadata": {},
   "outputs": [
    {
     "name": "stdout",
     "output_type": "stream",
     "text": [
      "2.3.0\n",
      "4.40.2\n"
     ]
    },
    {
     "name": "stderr",
     "output_type": "stream",
     "text": [
      "/opt/miniconda3/envs/nlp/lib/python3.10/site-packages/huggingface_hub/file_download.py:1132: FutureWarning: `resume_download` is deprecated and will be removed in version 1.0.0. Downloads always resume when possible. If you want to force a new download, use `force_download=True`.\n",
      "  warnings.warn(\n"
     ]
    }
   ],
   "source": [
    "import torch\n",
    "print(torch.__version__)\n",
    "import transformers\n",
    "print(transformers.__version__)\n",
    "import numpy as np\n",
    "from transformers import BertTokenizer, BertModel\n",
    "tokenizer = BertTokenizer.from_pretrained('bert-base-uncased')\n",
    "from sklearn.decomposition import PCA\n",
    "import matplotlib.pyplot as plt"
   ]
  },
  {
   "cell_type": "code",
   "execution_count": 3,
   "metadata": {},
   "outputs": [
    {
     "data": {
      "text/plain": [
       "BertConfig {\n",
       "  \"_name_or_path\": \"bert-base-uncased\",\n",
       "  \"architectures\": [\n",
       "    \"BertForMaskedLM\"\n",
       "  ],\n",
       "  \"attention_probs_dropout_prob\": 0.1,\n",
       "  \"classifier_dropout\": null,\n",
       "  \"gradient_checkpointing\": false,\n",
       "  \"hidden_act\": \"gelu\",\n",
       "  \"hidden_dropout_prob\": 0.1,\n",
       "  \"hidden_size\": 768,\n",
       "  \"initializer_range\": 0.02,\n",
       "  \"intermediate_size\": 3072,\n",
       "  \"layer_norm_eps\": 1e-12,\n",
       "  \"max_position_embeddings\": 512,\n",
       "  \"model_type\": \"bert\",\n",
       "  \"num_attention_heads\": 12,\n",
       "  \"num_hidden_layers\": 12,\n",
       "  \"pad_token_id\": 0,\n",
       "  \"position_embedding_type\": \"absolute\",\n",
       "  \"transformers_version\": \"4.40.2\",\n",
       "  \"type_vocab_size\": 2,\n",
       "  \"use_cache\": true,\n",
       "  \"vocab_size\": 30522\n",
       "}"
      ]
     },
     "execution_count": 3,
     "metadata": {},
     "output_type": "execute_result"
    }
   ],
   "source": [
    "model = BertModel.from_pretrained('bert-base-uncased')\n",
    "model.config"
   ]
  },
  {
   "cell_type": "markdown",
   "metadata": {},
   "source": [
    "# BERT-baseアーキテクチャのパラメータ説明\n",
    "\n",
    "## 1. 主要なアーキテクチャコンポーネント\n",
    "### トランスフォーマー層 (`num_hidden_layers: 12`)\n",
    "- BERT-baseは12のトランスフォーマーエンコーダー層を持つ\n",
    "- 各層は以下を含む:\n",
    "  * マルチヘッド自己注意機構\n",
    "  * フィードフォワードニューラルネットワーク\n",
    "  * レイヤー正規化\n",
    "  * 残差接続\n",
    "\n",
    "### 注意機構\n",
    "- `num_attention_heads: 12`\n",
    "  * 各層は12の注意ヘッドを持つ\n",
    "  * 各ヘッドは入力の異なる部分を処理\n",
    "- `hidden_size: 768`\n",
    "  * 隠れ状態の次元\n",
    "  * 各注意ヘッドは64次元のデータを処理 (768/12 = 64)\n",
    "\n",
    "### フィードフォワードネットワーク\n",
    "- `intermediate_size: 3072`\n",
    "  * フィードフォワードネットワークの中間層のサイズ\n",
    "  * 隠れサイズの4倍 (768 * 4 = 3072)\n",
    "  * シーケンス: 768 → 3072 → 768 (GELU活性化関数使用)\n",
    "\n",
    "## 2. その他の重要なパラメータ\n",
    "### 埋め込みとシーケンス\n",
    "- `vocab_size: 30522`\n",
    "  * トークナイザーの語彙サイズ\n",
    "- `max_position_embeddings: 512`\n",
    "  * モデルが処理できる最大シーケンス長\n",
    "- `type_vocab_size: 2`\n",
    "  * セグメント埋め込み用（文A/B）\n",
    "\n",
    "### モデル設定\n",
    "- `hidden_act: \"gelu\"`\n",
    "  * 使用される活性化関数\n",
    "- `layer_norm_eps: 1e-12`\n",
    "  * 数値の安定性のための小さな定数\n",
    "- `attention_probs_dropout_prob: 0.1`\n",
    "  * アテンション確率のドロップアウト率\n",
    "- `hidden_dropout_prob: 0.1`\n",
    "  * 全結合層のドロップアウト率\n",
    "\n",
    "### 位置情報\n",
    "- `position_embedding_type: \"absolute\"`\n",
    "  * 絶対位置埋め込みを使用"
   ]
  },
  {
   "cell_type": "markdown",
   "metadata": {},
   "source": [
    "# BERT Embeddings\n",
    "BERTはテキストを数値ベクトルとして表現することができる。"
   ]
  },
  {
   "cell_type": "code",
   "execution_count": 4,
   "metadata": {},
   "outputs": [
    {
     "name": "stdout",
     "output_type": "stream",
     "text": [
      "torch.Size([1, 768])\n"
     ]
    }
   ],
   "source": [
    "# 事前学習済みBERTモデルとトークナイザーの読み込み\n",
    "model = BertModel.from_pretrained('bert-base-uncased')\n",
    "\n",
    "# 入力テキスト\n",
    "sentence = \"BERT is a transformer-based model for NLP tasks.\"\n",
    "\n",
    "# 入力のエンコード\n",
    "inputs = tokenizer(sentence, return_tensors='pt', padding=True, truncation=True)\n",
    "\n",
    "# 隠れ状態の取得\n",
    "with torch.no_grad():\n",
    "    outputs = model(**inputs)\n",
    "    # 最終層の隠れ状態 (バッチサイズ, シーケンス長, 隠れ層の次元)\n",
    "    hidden_states = outputs.last_hidden_state\n",
    "\n",
    "# [CLS]トークンの表現を文埋め込みとして取得\n",
    "sentence_embedding = hidden_states[:, 0, :]  # [CLS]埋め込み\n",
    "print(sentence_embedding.shape)  # 出力: torch.Size([1, 768])"
   ]
  },
  {
   "cell_type": "code",
   "execution_count": 5,
   "metadata": {},
   "outputs": [
    {
     "name": "stdout",
     "output_type": "stream",
     "text": [
      "(9, 768)\n"
     ]
    }
   ],
   "source": [
    "sentences = [\n",
    "   # 自然言語処理関連の文章\n",
    "   \"Deep learning models have transformed natural language processing.\",  # S2/S3のような技術的な文章\n",
    "   \"Transformers have revolutionized NLP tasks.\",\n",
    "   \"Natural language processing is advancing rapidly.\",\n",
    "   \n",
    "   # 天気関連の文章\n",
    "   \"The weather is sunny and warm today.\",\n",
    "   \"It might rain this afternoon.\",\n",
    "   \"The temperature will drop tomorrow.\",\n",
    "   \n",
    "   # スポーツ関連の文章\n",
    "   \"The basketball team won the championship.\",\n",
    "   \"The NBA finals were incredibly exciting.\",  # S7のようなバスケットボール専門の文章\n",
    "   \"The Lakers dominated the basketball season.\"  # S7のようなバスケットボール専門の文章\n",
    "]\n",
    "\n",
    "# すべての文章の埋め込みを取得\n",
    "embeddings = []\n",
    "with torch.no_grad():\n",
    "   for sentence in sentences:\n",
    "       inputs = tokenizer(sentence, return_tensors='pt', padding=True, truncation=True)\n",
    "       outputs = model(**inputs).last_hidden_state\n",
    "       embeddings.append(outputs[:, 0, :])  # [CLS]トークンの埋め込みを取得\n",
    "\n",
    "# NumPy配列に変換して結合\n",
    "embeddings_np = np.vstack([emb.numpy() for emb in embeddings])\n",
    "print(embeddings_np.shape)  # 出力: (9, 768)"
   ]
  },
  {
   "cell_type": "code",
   "execution_count": 6,
   "metadata": {},
   "outputs": [
    {
     "name": "stderr",
     "output_type": "stream",
     "text": [
      "/var/folders/v0/5gx8ss_j2t55l30n8jm5d2t40000gn/T/ipykernel_3395/2289372731.py:36: UserWarning: Glyph 25991 (\\N{CJK UNIFIED IDEOGRAPH-6587}) missing from current font.\n",
      "  plt.tight_layout()\n",
      "/var/folders/v0/5gx8ss_j2t55l30n8jm5d2t40000gn/T/ipykernel_3395/2289372731.py:36: UserWarning: Glyph 31456 (\\N{CJK UNIFIED IDEOGRAPH-7AE0}) missing from current font.\n",
      "  plt.tight_layout()\n",
      "/var/folders/v0/5gx8ss_j2t55l30n8jm5d2t40000gn/T/ipykernel_3395/2289372731.py:36: UserWarning: Glyph 22475 (\\N{CJK UNIFIED IDEOGRAPH-57CB}) missing from current font.\n",
      "  plt.tight_layout()\n",
      "/var/folders/v0/5gx8ss_j2t55l30n8jm5d2t40000gn/T/ipykernel_3395/2289372731.py:36: UserWarning: Glyph 12417 (\\N{HIRAGANA LETTER ME}) missing from current font.\n",
      "  plt.tight_layout()\n",
      "/var/folders/v0/5gx8ss_j2t55l30n8jm5d2t40000gn/T/ipykernel_3395/2289372731.py:36: UserWarning: Glyph 36796 (\\N{CJK UNIFIED IDEOGRAPH-8FBC}) missing from current font.\n",
      "  plt.tight_layout()\n",
      "/var/folders/v0/5gx8ss_j2t55l30n8jm5d2t40000gn/T/ipykernel_3395/2289372731.py:36: UserWarning: Glyph 12415 (\\N{HIRAGANA LETTER MI}) missing from current font.\n",
      "  plt.tight_layout()\n",
      "/var/folders/v0/5gx8ss_j2t55l30n8jm5d2t40000gn/T/ipykernel_3395/2289372731.py:36: UserWarning: Glyph 12398 (\\N{HIRAGANA LETTER NO}) missing from current font.\n",
      "  plt.tight_layout()\n",
      "/var/folders/v0/5gx8ss_j2t55l30n8jm5d2t40000gn/T/ipykernel_3395/2289372731.py:36: UserWarning: Glyph 27425 (\\N{CJK UNIFIED IDEOGRAPH-6B21}) missing from current font.\n",
      "  plt.tight_layout()\n",
      "/var/folders/v0/5gx8ss_j2t55l30n8jm5d2t40000gn/T/ipykernel_3395/2289372731.py:36: UserWarning: Glyph 20803 (\\N{CJK UNIFIED IDEOGRAPH-5143}) missing from current font.\n",
      "  plt.tight_layout()\n",
      "/var/folders/v0/5gx8ss_j2t55l30n8jm5d2t40000gn/T/ipykernel_3395/2289372731.py:36: UserWarning: Glyph 21487 (\\N{CJK UNIFIED IDEOGRAPH-53EF}) missing from current font.\n",
      "  plt.tight_layout()\n",
      "/var/folders/v0/5gx8ss_j2t55l30n8jm5d2t40000gn/T/ipykernel_3395/2289372731.py:36: UserWarning: Glyph 35222 (\\N{CJK UNIFIED IDEOGRAPH-8996}) missing from current font.\n",
      "  plt.tight_layout()\n",
      "/var/folders/v0/5gx8ss_j2t55l30n8jm5d2t40000gn/T/ipykernel_3395/2289372731.py:36: UserWarning: Glyph 21270 (\\N{CJK UNIFIED IDEOGRAPH-5316}) missing from current font.\n",
      "  plt.tight_layout()\n",
      "/var/folders/v0/5gx8ss_j2t55l30n8jm5d2t40000gn/T/ipykernel_3395/2289372731.py:36: UserWarning: Glyph 33258 (\\N{CJK UNIFIED IDEOGRAPH-81EA}) missing from current font.\n",
      "  plt.tight_layout()\n",
      "/var/folders/v0/5gx8ss_j2t55l30n8jm5d2t40000gn/T/ipykernel_3395/2289372731.py:36: UserWarning: Glyph 28982 (\\N{CJK UNIFIED IDEOGRAPH-7136}) missing from current font.\n",
      "  plt.tight_layout()\n",
      "/var/folders/v0/5gx8ss_j2t55l30n8jm5d2t40000gn/T/ipykernel_3395/2289372731.py:36: UserWarning: Glyph 35328 (\\N{CJK UNIFIED IDEOGRAPH-8A00}) missing from current font.\n",
      "  plt.tight_layout()\n",
      "/var/folders/v0/5gx8ss_j2t55l30n8jm5d2t40000gn/T/ipykernel_3395/2289372731.py:36: UserWarning: Glyph 35486 (\\N{CJK UNIFIED IDEOGRAPH-8A9E}) missing from current font.\n",
      "  plt.tight_layout()\n",
      "/var/folders/v0/5gx8ss_j2t55l30n8jm5d2t40000gn/T/ipykernel_3395/2289372731.py:36: UserWarning: Glyph 20966 (\\N{CJK UNIFIED IDEOGRAPH-51E6}) missing from current font.\n",
      "  plt.tight_layout()\n",
      "/var/folders/v0/5gx8ss_j2t55l30n8jm5d2t40000gn/T/ipykernel_3395/2289372731.py:36: UserWarning: Glyph 29702 (\\N{CJK UNIFIED IDEOGRAPH-7406}) missing from current font.\n",
      "  plt.tight_layout()\n",
      "/var/folders/v0/5gx8ss_j2t55l30n8jm5d2t40000gn/T/ipykernel_3395/2289372731.py:36: UserWarning: Glyph 38306 (\\N{CJK UNIFIED IDEOGRAPH-95A2}) missing from current font.\n",
      "  plt.tight_layout()\n",
      "/var/folders/v0/5gx8ss_j2t55l30n8jm5d2t40000gn/T/ipykernel_3395/2289372731.py:36: UserWarning: Glyph 36899 (\\N{CJK UNIFIED IDEOGRAPH-9023}) missing from current font.\n",
      "  plt.tight_layout()\n",
      "/var/folders/v0/5gx8ss_j2t55l30n8jm5d2t40000gn/T/ipykernel_3395/2289372731.py:36: UserWarning: Glyph 22825 (\\N{CJK UNIFIED IDEOGRAPH-5929}) missing from current font.\n",
      "  plt.tight_layout()\n",
      "/var/folders/v0/5gx8ss_j2t55l30n8jm5d2t40000gn/T/ipykernel_3395/2289372731.py:36: UserWarning: Glyph 27671 (\\N{CJK UNIFIED IDEOGRAPH-6C17}) missing from current font.\n",
      "  plt.tight_layout()\n",
      "/var/folders/v0/5gx8ss_j2t55l30n8jm5d2t40000gn/T/ipykernel_3395/2289372731.py:36: UserWarning: Glyph 12473 (\\N{KATAKANA LETTER SU}) missing from current font.\n",
      "  plt.tight_layout()\n",
      "/var/folders/v0/5gx8ss_j2t55l30n8jm5d2t40000gn/T/ipykernel_3395/2289372731.py:36: UserWarning: Glyph 12509 (\\N{KATAKANA LETTER PO}) missing from current font.\n",
      "  plt.tight_layout()\n",
      "/var/folders/v0/5gx8ss_j2t55l30n8jm5d2t40000gn/T/ipykernel_3395/2289372731.py:36: UserWarning: Glyph 12540 (\\N{KATAKANA-HIRAGANA PROLONGED SOUND MARK}) missing from current font.\n",
      "  plt.tight_layout()\n",
      "/var/folders/v0/5gx8ss_j2t55l30n8jm5d2t40000gn/T/ipykernel_3395/2289372731.py:36: UserWarning: Glyph 12484 (\\N{KATAKANA LETTER TU}) missing from current font.\n",
      "  plt.tight_layout()\n",
      "/opt/miniconda3/envs/nlp/lib/python3.10/site-packages/IPython/core/pylabtools.py:170: UserWarning: Glyph 25991 (\\N{CJK UNIFIED IDEOGRAPH-6587}) missing from current font.\n",
      "  fig.canvas.print_figure(bytes_io, **kw)\n",
      "/opt/miniconda3/envs/nlp/lib/python3.10/site-packages/IPython/core/pylabtools.py:170: UserWarning: Glyph 31456 (\\N{CJK UNIFIED IDEOGRAPH-7AE0}) missing from current font.\n",
      "  fig.canvas.print_figure(bytes_io, **kw)\n",
      "/opt/miniconda3/envs/nlp/lib/python3.10/site-packages/IPython/core/pylabtools.py:170: UserWarning: Glyph 22475 (\\N{CJK UNIFIED IDEOGRAPH-57CB}) missing from current font.\n",
      "  fig.canvas.print_figure(bytes_io, **kw)\n",
      "/opt/miniconda3/envs/nlp/lib/python3.10/site-packages/IPython/core/pylabtools.py:170: UserWarning: Glyph 12417 (\\N{HIRAGANA LETTER ME}) missing from current font.\n",
      "  fig.canvas.print_figure(bytes_io, **kw)\n",
      "/opt/miniconda3/envs/nlp/lib/python3.10/site-packages/IPython/core/pylabtools.py:170: UserWarning: Glyph 36796 (\\N{CJK UNIFIED IDEOGRAPH-8FBC}) missing from current font.\n",
      "  fig.canvas.print_figure(bytes_io, **kw)\n",
      "/opt/miniconda3/envs/nlp/lib/python3.10/site-packages/IPython/core/pylabtools.py:170: UserWarning: Glyph 12415 (\\N{HIRAGANA LETTER MI}) missing from current font.\n",
      "  fig.canvas.print_figure(bytes_io, **kw)\n",
      "/opt/miniconda3/envs/nlp/lib/python3.10/site-packages/IPython/core/pylabtools.py:170: UserWarning: Glyph 12398 (\\N{HIRAGANA LETTER NO}) missing from current font.\n",
      "  fig.canvas.print_figure(bytes_io, **kw)\n",
      "/opt/miniconda3/envs/nlp/lib/python3.10/site-packages/IPython/core/pylabtools.py:170: UserWarning: Glyph 27425 (\\N{CJK UNIFIED IDEOGRAPH-6B21}) missing from current font.\n",
      "  fig.canvas.print_figure(bytes_io, **kw)\n",
      "/opt/miniconda3/envs/nlp/lib/python3.10/site-packages/IPython/core/pylabtools.py:170: UserWarning: Glyph 20803 (\\N{CJK UNIFIED IDEOGRAPH-5143}) missing from current font.\n",
      "  fig.canvas.print_figure(bytes_io, **kw)\n",
      "/opt/miniconda3/envs/nlp/lib/python3.10/site-packages/IPython/core/pylabtools.py:170: UserWarning: Glyph 21487 (\\N{CJK UNIFIED IDEOGRAPH-53EF}) missing from current font.\n",
      "  fig.canvas.print_figure(bytes_io, **kw)\n",
      "/opt/miniconda3/envs/nlp/lib/python3.10/site-packages/IPython/core/pylabtools.py:170: UserWarning: Glyph 35222 (\\N{CJK UNIFIED IDEOGRAPH-8996}) missing from current font.\n",
      "  fig.canvas.print_figure(bytes_io, **kw)\n",
      "/opt/miniconda3/envs/nlp/lib/python3.10/site-packages/IPython/core/pylabtools.py:170: UserWarning: Glyph 21270 (\\N{CJK UNIFIED IDEOGRAPH-5316}) missing from current font.\n",
      "  fig.canvas.print_figure(bytes_io, **kw)\n",
      "/opt/miniconda3/envs/nlp/lib/python3.10/site-packages/IPython/core/pylabtools.py:170: UserWarning: Glyph 33258 (\\N{CJK UNIFIED IDEOGRAPH-81EA}) missing from current font.\n",
      "  fig.canvas.print_figure(bytes_io, **kw)\n",
      "/opt/miniconda3/envs/nlp/lib/python3.10/site-packages/IPython/core/pylabtools.py:170: UserWarning: Glyph 28982 (\\N{CJK UNIFIED IDEOGRAPH-7136}) missing from current font.\n",
      "  fig.canvas.print_figure(bytes_io, **kw)\n",
      "/opt/miniconda3/envs/nlp/lib/python3.10/site-packages/IPython/core/pylabtools.py:170: UserWarning: Glyph 35328 (\\N{CJK UNIFIED IDEOGRAPH-8A00}) missing from current font.\n",
      "  fig.canvas.print_figure(bytes_io, **kw)\n",
      "/opt/miniconda3/envs/nlp/lib/python3.10/site-packages/IPython/core/pylabtools.py:170: UserWarning: Glyph 35486 (\\N{CJK UNIFIED IDEOGRAPH-8A9E}) missing from current font.\n",
      "  fig.canvas.print_figure(bytes_io, **kw)\n",
      "/opt/miniconda3/envs/nlp/lib/python3.10/site-packages/IPython/core/pylabtools.py:170: UserWarning: Glyph 20966 (\\N{CJK UNIFIED IDEOGRAPH-51E6}) missing from current font.\n",
      "  fig.canvas.print_figure(bytes_io, **kw)\n",
      "/opt/miniconda3/envs/nlp/lib/python3.10/site-packages/IPython/core/pylabtools.py:170: UserWarning: Glyph 29702 (\\N{CJK UNIFIED IDEOGRAPH-7406}) missing from current font.\n",
      "  fig.canvas.print_figure(bytes_io, **kw)\n",
      "/opt/miniconda3/envs/nlp/lib/python3.10/site-packages/IPython/core/pylabtools.py:170: UserWarning: Glyph 38306 (\\N{CJK UNIFIED IDEOGRAPH-95A2}) missing from current font.\n",
      "  fig.canvas.print_figure(bytes_io, **kw)\n",
      "/opt/miniconda3/envs/nlp/lib/python3.10/site-packages/IPython/core/pylabtools.py:170: UserWarning: Glyph 36899 (\\N{CJK UNIFIED IDEOGRAPH-9023}) missing from current font.\n",
      "  fig.canvas.print_figure(bytes_io, **kw)\n",
      "/opt/miniconda3/envs/nlp/lib/python3.10/site-packages/IPython/core/pylabtools.py:170: UserWarning: Glyph 22825 (\\N{CJK UNIFIED IDEOGRAPH-5929}) missing from current font.\n",
      "  fig.canvas.print_figure(bytes_io, **kw)\n",
      "/opt/miniconda3/envs/nlp/lib/python3.10/site-packages/IPython/core/pylabtools.py:170: UserWarning: Glyph 27671 (\\N{CJK UNIFIED IDEOGRAPH-6C17}) missing from current font.\n",
      "  fig.canvas.print_figure(bytes_io, **kw)\n",
      "/opt/miniconda3/envs/nlp/lib/python3.10/site-packages/IPython/core/pylabtools.py:170: UserWarning: Glyph 12473 (\\N{KATAKANA LETTER SU}) missing from current font.\n",
      "  fig.canvas.print_figure(bytes_io, **kw)\n",
      "/opt/miniconda3/envs/nlp/lib/python3.10/site-packages/IPython/core/pylabtools.py:170: UserWarning: Glyph 12509 (\\N{KATAKANA LETTER PO}) missing from current font.\n",
      "  fig.canvas.print_figure(bytes_io, **kw)\n",
      "/opt/miniconda3/envs/nlp/lib/python3.10/site-packages/IPython/core/pylabtools.py:170: UserWarning: Glyph 12540 (\\N{KATAKANA-HIRAGANA PROLONGED SOUND MARK}) missing from current font.\n",
      "  fig.canvas.print_figure(bytes_io, **kw)\n",
      "/opt/miniconda3/envs/nlp/lib/python3.10/site-packages/IPython/core/pylabtools.py:170: UserWarning: Glyph 12484 (\\N{KATAKANA LETTER TU}) missing from current font.\n",
      "  fig.canvas.print_figure(bytes_io, **kw)\n"
     ]
    },
    {
     "data": {
      "image/png": "[encoded data removed]",
      "text/plain": [
       "<Figure size 1200x800 with 1 Axes>"
      ]
     },
     "metadata": {},
     "output_type": "display_data"
    }
   ],
   "source": [
    "# PCAによる次元削減を適用（768次元から2次元へ）\n",
    "pca = PCA(n_components=2)\n",
    "embeddings_2d = pca.fit_transform(embeddings_np)\n",
    "\n",
    "# グループごとに異なる色を使用して散布図を作成\n",
    "plt.figure(figsize=(12, 8))\n",
    "\n",
    "# グループごとに異なる色とマーカーでプロット\n",
    "colors = ['blue', 'green', 'red']  # 各グループの色を定義\n",
    "markers = ['o', 's', '^']  # マーカーの形状を定義: 丸、四角、三角\n",
    "\n",
    "for i in range(3):  # 3つのグループをループ\n",
    "   start_idx = i * 3\n",
    "   end_idx = start_idx + 3\n",
    "   plt.scatter(embeddings_2d[start_idx:end_idx, 0], \n",
    "              embeddings_2d[start_idx:end_idx, 1], \n",
    "              c=colors[i], \n",
    "              marker=markers[i],\n",
    "              label=f'グループ {i+1}')\n",
    "\n",
    "# 各点にラベルを追加\n",
    "# S1, S2などの形式で文章番号を表示\n",
    "for idx, sentence in enumerate(sentences):\n",
    "   plt.annotate(f\"S{idx+1}\", \n",
    "               (embeddings_2d[idx, 0], embeddings_2d[idx, 1]),\n",
    "               xytext=(5, 5), \n",
    "               textcoords='offset points',\n",
    "               fontsize=8)\n",
    "\n",
    "# プロットのカスタマイズ\n",
    "plt.title(\"文章埋め込みの2次元可視化\")  # タイトルの設定\n",
    "plt.legend(['自然言語処理関連', '天気関連', 'スポーツ関連'])  # 凡例の設定\n",
    "plt.grid(True, alpha=0.3)  # グリッドの表示（透明度0.3）\n",
    "\n",
    "# レイアウトの調整\n",
    "plt.tight_layout()\n",
    "\n",
    "# プロットの表示\n",
    "plt.show()"
   ]
  },
  {
   "cell_type": "markdown",
   "metadata": {},
   "source": [
    "# Masked Token Prediction\n",
    "BERTはマスクされたトークンを予測することができる。"
   ]
  },
  {
   "cell_type": "code",
   "execution_count": 7,
   "metadata": {},
   "outputs": [
    {
     "name": "stderr",
     "output_type": "stream",
     "text": [
      "/opt/miniconda3/envs/nlp/lib/python3.10/site-packages/huggingface_hub/file_download.py:1132: FutureWarning: `resume_download` is deprecated and will be removed in version 1.0.0. Downloads always resume when possible. If you want to force a new download, use `force_download=True`.\n",
      "  warnings.warn(\n",
      "Some weights of the model checkpoint at bert-base-uncased were not used when initializing BertForMaskedLM: ['bert.pooler.dense.bias', 'bert.pooler.dense.weight', 'cls.seq_relationship.bias', 'cls.seq_relationship.weight']\n",
      "- This IS expected if you are initializing BertForMaskedLM from the checkpoint of a model trained on another task or with another architecture (e.g. initializing a BertForSequenceClassification model from a BertForPreTraining model).\n",
      "- This IS NOT expected if you are initializing BertForMaskedLM from the checkpoint of a model that you expect to be exactly identical (initializing a BertForSequenceClassification model from a BertForSequenceClassification model).\n"
     ]
    },
    {
     "name": "stdout",
     "output_type": "stream",
     "text": [
      "入力テキスト: The [MASK] is shining brightly in the sky.\n",
      "BERTが予測した[MASK]の単語: sun\n",
      "\n",
      "上位5つの予測結果:\n",
      "sun: 0.605\n",
      "moon: 0.359\n",
      "sunset: 0.006\n",
      "star: 0.004\n",
      "city: 0.002\n"
     ]
    }
   ],
   "source": [
    "from transformers import BertForMaskedLM\n",
    "\n",
    "# 事前学習済みのマスク言語モデルを読み込む\n",
    "model = BertForMaskedLM.from_pretrained('bert-base-uncased')\n",
    "model.eval()  # 評価モードに設定\n",
    "\n",
    "# [MASK]トークンを含む入力テキストを準備\n",
    "text = \"The [MASK] is shining brightly in the sky.\"  # 「空で明るく輝いている[MASK]」\n",
    "\n",
    "# テキストをエンコード\n",
    "inputs = tokenizer(text, return_tensors=\"pt\")\n",
    "\n",
    "# [MASK]トークンの位置を取得\n",
    "mask_token_index = torch.where(inputs[\"input_ids\"] == tokenizer.mask_token_id)[1]\n",
    "\n",
    "# 予測を実行\n",
    "with torch.no_grad():\n",
    "   outputs = model(**inputs)\n",
    "   predictions = outputs.logits  # 予測結果（ロジット）を取得\n",
    "\n",
    "# 最も確率の高いトークンを取得\n",
    "predicted_token_id = predictions[0, mask_token_index].argmax(axis=-1)\n",
    "predicted_token = tokenizer.decode(predicted_token_id)\n",
    "\n",
    "print(f\"入力テキスト: {text}\")\n",
    "print(f\"BERTが予測した[MASK]の単語: {predicted_token}\")\n",
    "\n",
    "# 上位5つの予測結果を表示\n",
    "# softmax関数で確率に変換\n",
    "probs = torch.nn.functional.softmax(predictions[0, mask_token_index], dim=-1)\n",
    "# 確率が高い順に上位5つを取得\n",
    "top_5_tokens = torch.topk(probs, 5, dim=-1)\n",
    "\n",
    "print(\"\\n上位5つの予測結果:\")\n",
    "for token, prob in zip(top_5_tokens.indices[0], top_5_tokens.values[0]):\n",
    "   word = tokenizer.decode([token])\n",
    "   print(f\"{word}: {prob:.3f}\")  # 単語と確率を表示"
   ]
  },
  {
   "cell_type": "markdown",
   "metadata": {},
   "source": [
    "# Next Sentence Prediction\n",
    "BERTは2つの文間の関係性を判定することができます。"
   ]
  },
  {
   "cell_type": "code",
   "execution_count": 8,
   "metadata": {},
   "outputs": [
    {
     "name": "stdout",
     "output_type": "stream",
     "text": [
      "\n",
      "文章1: The restaurant is famous.\n",
      "文章2: Jupiter is the largest planet.\n",
      "文章が関連している確率: 0.000\n",
      "文章が関連していない確率: 1.000\n",
      "\n",
      "文章1: The weather is very cold.\n",
      "文章2: There is snow everywhere.\n",
      "文章が関連している確率: 1.000\n",
      "文章が関連していない確率: 0.000\n"
     ]
    }
   ],
   "source": [
    "from transformers import BertForNextSentencePrediction\n",
    "# 事前学習済みのモデルを読み込む\n",
    "model = BertForNextSentencePrediction.from_pretrained('bert-base-uncased')\n",
    "model.eval()\n",
    "\n",
    "# 文章ペアの例を準備\n",
    "sentence_pairs = [\n",
    "   [\"The restaurant is famous.\", \"Jupiter is the largest planet.\"],  # 無関係な文章ペア\n",
    "   [\"The weather is very cold.\", \"There is snow everywhere.\"],     # 関連のある文章ペア\n",
    "]\n",
    "\n",
    "# 各文章ペアをテスト\n",
    "for sentences in sentence_pairs:\n",
    "   # 文章ペアをエンコード\n",
    "   encoding = tokenizer(sentences[0], sentences[1], return_tensors='pt', padding=True)\n",
    "   \n",
    "   # 予測を実行\n",
    "   with torch.no_grad():\n",
    "       outputs = model(**encoding)\n",
    "       predictions = torch.nn.functional.softmax(outputs.logits, dim=-1)\n",
    "   \n",
    "   # 予測確率を取得\n",
    "   is_next_prob = predictions[0][0].item()\n",
    "   \n",
    "   print(f\"\\n文章1: {sentences[0]}\")\n",
    "   print(f\"文章2: {sentences[1]}\")\n",
    "   print(f\"文章が関連している確率: {is_next_prob:.3f}\")\n",
    "   print(f\"文章が関連していない確率: {1-is_next_prob:.3f}\")"
   ]
  },
  {
   "cell_type": "code",
   "execution_count": null,
   "metadata": {},
   "outputs": [],
   "source": [
    "torch.mps.empty_cache() # メモリ解放, macos\n",
    "torch.cuda.empty_cache() # メモリ解放, CUDA"
   ]
  },
  {
   "cell_type": "markdown",
   "metadata": {},
   "source": [
    "# NER (Named Entity Recognition)\n",
    "BERTは文の中の固有名詞を識別することができる。\n",
    "![](https://miro.medium.com/v2/resize:fit:937/0*gDVxdYislF3CJVjq.png)"
   ]
  },
  {
   "cell_type": "code",
   "execution_count": 13,
   "metadata": {},
   "outputs": [
    {
     "name": "stderr",
     "output_type": "stream",
     "text": [
      "Some weights of the model checkpoint at dslim/bert-base-NER were not used when initializing BertForTokenClassification: ['bert.pooler.dense.bias', 'bert.pooler.dense.weight']\n",
      "- This IS expected if you are initializing BertForTokenClassification from the checkpoint of a model trained on another task or with another architecture (e.g. initializing a BertForSequenceClassification model from a BertForPreTraining model).\n",
      "- This IS NOT expected if you are initializing BertForTokenClassification from the checkpoint of a model that you expect to be exactly identical (initializing a BertForSequenceClassification model from a BertForSequenceClassification model).\n"
     ]
    },
    {
     "name": "stdout",
     "output_type": "stream",
     "text": [
      "[{'entity': 'B-PER', 'score': 0.9990139, 'index': 4, 'word': 'Wolfgang', 'start': 11, 'end': 19}, {'entity': 'B-LOC', 'score': 0.999645, 'index': 9, 'word': 'Berlin', 'start': 34, 'end': 40}]\n"
     ]
    }
   ],
   "source": [
    "from transformers import AutoTokenizer, AutoModelForTokenClassification\n",
    "from transformers import pipeline\n",
    "\n",
    "tokenizer = AutoTokenizer.from_pretrained(\"dslim/bert-base-NER\")\n",
    "model = AutoModelForTokenClassification.from_pretrained(\"dslim/bert-base-NER\")\n",
    "\n",
    "nlp = pipeline(\"ner\", model=model, tokenizer=tokenizer)\n",
    "example = \"My name is Wolfgang and I live in Berlin\"\n",
    "\n",
    "ner_results = nlp(example)\n",
    "print(ner_results)\n"
   ]
  },
  {
   "cell_type": "markdown",
   "metadata": {},
   "source": [
    "# BERT Classification\n",
    "BERTは文を分類することができる。"
   ]
  },
  {
   "cell_type": "code",
   "execution_count": 15,
   "metadata": {},
   "outputs": [
    {
     "data": {
      "application/vnd.jupyter.widget-view+json": {
       "model_id": "fc9db43747fe4670920bf21c5da53b99",
       "version_major": 2,
       "version_minor": 0
      },
      "text/plain": [
       "tokenizer_config.json:   0%|          | 0.00/48.0 [00:00<?, ?B/s]"
      ]
     },
     "metadata": {},
     "output_type": "display_data"
    },
    {
     "data": {
      "application/vnd.jupyter.widget-view+json": {
       "model_id": "2dfaa05eb8d041e680bff245b89912a0",
       "version_major": 2,
       "version_minor": 0
      },
      "text/plain": [
       "vocab.txt:   0%|          | 0.00/232k [00:00<?, ?B/s]"
      ]
     },
     "metadata": {},
     "output_type": "display_data"
    },
    {
     "data": {
      "application/vnd.jupyter.widget-view+json": {
       "model_id": "0145034014e949a6bb2c23f166f455cd",
       "version_major": 2,
       "version_minor": 0
      },
      "text/plain": [
       "special_tokens_map.json:   0%|          | 0.00/112 [00:00<?, ?B/s]"
      ]
     },
     "metadata": {},
     "output_type": "display_data"
    },
    {
     "data": {
      "application/vnd.jupyter.widget-view+json": {
       "model_id": "ecd5f8fec1fd403db2fa5d949a29ef46",
       "version_major": 2,
       "version_minor": 0
      },
      "text/plain": [
       "config.json:   0%|          | 0.00/511 [00:00<?, ?B/s]"
      ]
     },
     "metadata": {},
     "output_type": "display_data"
    },
    {
     "data": {
      "application/vnd.jupyter.widget-view+json": {
       "model_id": "84402955f7e643cc99a64bde0da3d7fc",
       "version_major": 2,
       "version_minor": 0
      },
      "text/plain": [
       "pytorch_model.bin:   0%|          | 0.00/438M [00:00<?, ?B/s]"
      ]
     },
     "metadata": {},
     "output_type": "display_data"
    },
    {
     "name": "stdout",
     "output_type": "stream",
     "text": [
      "\n",
      "テキスト分類結果:\n",
      "\n",
      "テキスト: This movie was terrible, I was so bored\n",
      "ネガティブ確率: 0.999\n",
      "ポジティブ確率: 0.001\n",
      "予測結果: ネガティブ\n",
      "\n",
      "テキスト: The restaurant served amazing food with great service\n",
      "ネガティブ確率: 0.003\n",
      "ポジティブ確率: 0.997\n",
      "予測結果: ポジティブ\n",
      "\n",
      "テキスト: The product quality is poor and it broke quickly\n",
      "ネガティブ確率: 0.994\n",
      "ポジティブ確率: 0.006\n",
      "予測結果: ネガティブ\n"
     ]
    }
   ],
   "source": [
    "from transformers import BertTokenizer, BertForSequenceClassification\n",
    "\n",
    "def classify_text(text, model, tokenizer):\n",
    "    # テキストをエンコード\n",
    "    inputs = tokenizer(text, padding=True, truncation=True, max_length=512, return_tensors=\"pt\")\n",
    "    \n",
    "    # 予測を実行\n",
    "    with torch.no_grad():\n",
    "        outputs = model(**inputs)\n",
    "        predictions = torch.nn.functional.softmax(outputs.logits, dim=-1)\n",
    "    \n",
    "    return predictions.numpy()\n",
    "\n",
    "\n",
    "# 事前学習済みモデルとトークナイザーを読み込み\n",
    "model_name = \"textattack/bert-base-uncased-imdb\"  # IMDBレビュー用のBERT\n",
    "tokenizer = BertTokenizer.from_pretrained(model_name)\n",
    "model = BertForSequenceClassification.from_pretrained(model_name, num_labels=2)\n",
    "\n",
    "# テストテキストを準備\n",
    "texts = [\n",
    "    \"This movie was terrible, I was so bored\",\n",
    "    \"The restaurant served amazing food with great service\",\n",
    "    \"The product quality is poor and it broke quickly\",\n",
    "]\n",
    "\n",
    "# 各テキストを分類\n",
    "print(\"\\nテキスト分類結果:\")\n",
    "for text in texts:\n",
    "    predictions = classify_text(text, model, tokenizer)\n",
    "    \n",
    "    print(f\"\\nテキスト: {text}\")\n",
    "    print(f\"ネガティブ確率: {predictions[0][0]:.3f}\")\n",
    "    print(f\"ポジティブ確率: {predictions[0][1]:.3f}\")\n",
    "    print(f\"予測結果: {'ポジティブ' if predictions[0][1] > predictions[0][0] else 'ネガティブ'}\")\n"
   ]
  }
 ],
 "metadata": {
  "kernelspec": {
   "display_name": "nlp",
   "language": "python",
   "name": "python3"
  },
  "language_info": {
   "codemirror_mode": {
    "name": "ipython",
    "version": 3
   },
   "file_extension": ".py",
   "mimetype": "text/x-python",
   "name": "python",
   "nbconvert_exporter": "python",
   "pygments_lexer": "ipython3",
   "version": "3.10.14"
  }
 },
 "nbformat": 4,
 "nbformat_minor": 2
}
